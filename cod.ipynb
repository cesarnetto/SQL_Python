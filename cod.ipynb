{
 "cells": [
  {
   "cell_type": "code",
   "execution_count": 10,
   "metadata": {},
   "outputs": [],
   "source": [
    "# 1. Criar e Conectar ao Banco de Dados\n",
    "import sqlite3\n",
    "\n",
    "# Conectar ao banco (ou criar, caso não exista)\n",
    "conexao = sqlite3.connect(\"meu_banco.db\")\n",
    "\n",
    "# Criar um cursor para executar comando SQL\n",
    "cursor = conexao.cursor()"
   ]
  },
  {
   "cell_type": "code",
   "execution_count": 3,
   "metadata": {},
   "outputs": [],
   "source": [
    "# 2. Criar uma Tabela\n",
    "cursor.execute(\"\"\"\n",
    "    CREATE TABLE IF NOT EXISTS alunos (\n",
    "        id  INTEGER PRIMARY KEY AUTOINCREMENT,\n",
    "        nome TEXT NOT NULL,\n",
    "        idade INTEGAR,\n",
    "        turma TEXT\n",
    "    )\n",
    "\"\"\")\n",
    "\n",
    "# Salvar as alterações\n",
    "conexao.commit()"
   ]
  },
  {
   "cell_type": "code",
   "execution_count": 4,
   "metadata": {},
   "outputs": [],
   "source": [
    "# 3. Inserir Dados\n",
    "cursor.execute(\"\"\"\n",
    "    INSERT INTO alunos (nome, idade, turma)\n",
    "               VALUES (?, ?, ?)\n",
    "\"\"\", (\"Carlos Silva\", 12, \"Sub-13\"))\n",
    "\n",
    "# Salvar as alterações\n",
    "conexao.commit()"
   ]
  },
  {
   "cell_type": "code",
   "execution_count": 11,
   "metadata": {},
   "outputs": [
    {
     "name": "stdout",
     "output_type": "stream",
     "text": [
      "(1, 'Carlos Silva', 13, 'Sub-13')\n"
     ]
    }
   ],
   "source": [
    "# 4. Buscar Dados\n",
    "cursor.execute(\"SELECT * FROM alunos\")\n",
    "alunos = cursor.fetchall() # Retorna todos os registros\n",
    "\n",
    "for aluno in alunos:\n",
    "    print(aluno)"
   ]
  },
  {
   "cell_type": "code",
   "execution_count": 6,
   "metadata": {},
   "outputs": [],
   "source": [
    "# 5. Atualizar Dados\n",
    "cursor.execute(\"\"\"\n",
    "    UPDATE alunos\n",
    "    SET idade = ?\n",
    "    WHERE nome = ?               \n",
    "\"\"\", (13, \"Carlos Silva\"))\n",
    "\n",
    "conexao.commit()"
   ]
  },
  {
   "cell_type": "code",
   "execution_count": 7,
   "metadata": {},
   "outputs": [
    {
     "data": {
      "text/plain": [
       "<sqlite3.Cursor at 0x2897c3c0740>"
      ]
     },
     "execution_count": 7,
     "metadata": {},
     "output_type": "execute_result"
    }
   ],
   "source": [
    "# 6. Excluir Dados\n",
    "cursor.execute(\"\"\" \n",
    "    DELETE FROM alunos\n",
    "    WHERE nome = ?\n",
    "\"\"\", (\"Carlos Silva\",))"
   ]
  },
  {
   "cell_type": "code",
   "execution_count": 8,
   "metadata": {},
   "outputs": [],
   "source": [
    "# 7. Fechar a Conexão\n",
    "conexao.close()"
   ]
  }
 ],
 "metadata": {
  "kernelspec": {
   "display_name": "Python 3",
   "language": "python",
   "name": "python3"
  },
  "language_info": {
   "codemirror_mode": {
    "name": "ipython",
    "version": 3
   },
   "file_extension": ".py",
   "mimetype": "text/x-python",
   "name": "python",
   "nbconvert_exporter": "python",
   "pygments_lexer": "ipython3",
   "version": "3.13.1"
  }
 },
 "nbformat": 4,
 "nbformat_minor": 2
}
